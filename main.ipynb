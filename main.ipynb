{
 "cells": [
  {
   "cell_type": "code",
   "execution_count": 42,
   "outputs": [],
   "source": [
    "import pandas as pd\n",
    "from IPython.display import display\n",
    "import matplotlib.pyplot as plt\n",
    "import seaborn as sns\n",
    "import statsmodels.stats.proportion as sp\n",
    "\n",
    "sns.set(style=\"darkgrid\")\n",
    "plt.style.use(\"dark_background\")\n",
    "plt.rcParams.update({\"grid.linewidth\":0.5, \"grid.alpha\":0.5})\n",
    "plt.rcParams['figure.dpi'] = 300\n",
    "plt.rcParams['savefig.dpi'] = 300"
   ],
   "metadata": {
    "collapsed": false,
    "pycharm": {
     "name": "#%%\n"
    }
   }
  },
  {
   "cell_type": "code",
   "execution_count": 12,
   "outputs": [
    {
     "data": {
      "text/plain": "        id     date         armed race threat_level\n0        3   1/2/15           gun    A       attack\n1        4   1/2/15           gun    W       attack\n2        5   1/3/15       unarmed    H        other\n3        8   1/4/15    toy weapon    W       attack\n4        9   1/4/15      nail gun    H       attack\n...    ...      ...           ...  ...          ...\n7367  8037  5/13/22    toy weapon  NaN       attack\n7368  8038  5/13/22  undetermined  NaN       attack\n7369  8034  5/14/22         knife  NaN        other\n7370  8035  5/14/22         knife  NaN       attack\n7371  8036  5/14/22           gun  NaN        other\n\n[7372 rows x 5 columns]",
      "text/html": "<div>\n<style scoped>\n    .dataframe tbody tr th:only-of-type {\n        vertical-align: middle;\n    }\n\n    .dataframe tbody tr th {\n        vertical-align: top;\n    }\n\n    .dataframe thead th {\n        text-align: right;\n    }\n</style>\n<table border=\"1\" class=\"dataframe\">\n  <thead>\n    <tr style=\"text-align: right;\">\n      <th></th>\n      <th>id</th>\n      <th>date</th>\n      <th>armed</th>\n      <th>race</th>\n      <th>threat_level</th>\n    </tr>\n  </thead>\n  <tbody>\n    <tr>\n      <th>0</th>\n      <td>3</td>\n      <td>1/2/15</td>\n      <td>gun</td>\n      <td>A</td>\n      <td>attack</td>\n    </tr>\n    <tr>\n      <th>1</th>\n      <td>4</td>\n      <td>1/2/15</td>\n      <td>gun</td>\n      <td>W</td>\n      <td>attack</td>\n    </tr>\n    <tr>\n      <th>2</th>\n      <td>5</td>\n      <td>1/3/15</td>\n      <td>unarmed</td>\n      <td>H</td>\n      <td>other</td>\n    </tr>\n    <tr>\n      <th>3</th>\n      <td>8</td>\n      <td>1/4/15</td>\n      <td>toy weapon</td>\n      <td>W</td>\n      <td>attack</td>\n    </tr>\n    <tr>\n      <th>4</th>\n      <td>9</td>\n      <td>1/4/15</td>\n      <td>nail gun</td>\n      <td>H</td>\n      <td>attack</td>\n    </tr>\n    <tr>\n      <th>...</th>\n      <td>...</td>\n      <td>...</td>\n      <td>...</td>\n      <td>...</td>\n      <td>...</td>\n    </tr>\n    <tr>\n      <th>7367</th>\n      <td>8037</td>\n      <td>5/13/22</td>\n      <td>toy weapon</td>\n      <td>NaN</td>\n      <td>attack</td>\n    </tr>\n    <tr>\n      <th>7368</th>\n      <td>8038</td>\n      <td>5/13/22</td>\n      <td>undetermined</td>\n      <td>NaN</td>\n      <td>attack</td>\n    </tr>\n    <tr>\n      <th>7369</th>\n      <td>8034</td>\n      <td>5/14/22</td>\n      <td>knife</td>\n      <td>NaN</td>\n      <td>other</td>\n    </tr>\n    <tr>\n      <th>7370</th>\n      <td>8035</td>\n      <td>5/14/22</td>\n      <td>knife</td>\n      <td>NaN</td>\n      <td>attack</td>\n    </tr>\n    <tr>\n      <th>7371</th>\n      <td>8036</td>\n      <td>5/14/22</td>\n      <td>gun</td>\n      <td>NaN</td>\n      <td>other</td>\n    </tr>\n  </tbody>\n</table>\n<p>7372 rows × 5 columns</p>\n</div>"
     },
     "metadata": {},
     "output_type": "display_data"
    }
   ],
   "source": [
    "df = pd.read_csv('fatal-police-shootings-data.csv')\n",
    "df = df.drop(columns=['name', 'manner_of_death', 'age', 'gender', 'city', 'state', 'signs_of_mental_illness', 'flee', 'body_camera', 'longitude', 'latitude', 'is_geocoding_exact'])\n",
    "display(df)"
   ],
   "metadata": {
    "collapsed": false,
    "pycharm": {
     "name": "#%%\n"
    }
   }
  },
  {
   "cell_type": "code",
   "execution_count": 13,
   "outputs": [
    {
     "data": {
      "text/plain": "        id     date            armed race  threat_level\n1        4   1/2/15              gun    W        attack\n3        8   1/4/15       toy weapon    W        attack\n5       11   1/4/15              gun    W        attack\n7       15   1/6/15              gun    W        attack\n8       16   1/6/15          unarmed    W         other\n...    ...      ...              ...  ...           ...\n7251  7892   4/1/22  gun and vehicle    W         other\n7264  7890   4/4/22          unarmed    B        attack\n7279  7920   4/7/22              gun    W        attack\n7290  7909  4/11/22              gun    B         other\n7334  7993  4/28/22     undetermined    W  undetermined\n\n[4620 rows x 5 columns]",
      "text/html": "<div>\n<style scoped>\n    .dataframe tbody tr th:only-of-type {\n        vertical-align: middle;\n    }\n\n    .dataframe tbody tr th {\n        vertical-align: top;\n    }\n\n    .dataframe thead th {\n        text-align: right;\n    }\n</style>\n<table border=\"1\" class=\"dataframe\">\n  <thead>\n    <tr style=\"text-align: right;\">\n      <th></th>\n      <th>id</th>\n      <th>date</th>\n      <th>armed</th>\n      <th>race</th>\n      <th>threat_level</th>\n    </tr>\n  </thead>\n  <tbody>\n    <tr>\n      <th>1</th>\n      <td>4</td>\n      <td>1/2/15</td>\n      <td>gun</td>\n      <td>W</td>\n      <td>attack</td>\n    </tr>\n    <tr>\n      <th>3</th>\n      <td>8</td>\n      <td>1/4/15</td>\n      <td>toy weapon</td>\n      <td>W</td>\n      <td>attack</td>\n    </tr>\n    <tr>\n      <th>5</th>\n      <td>11</td>\n      <td>1/4/15</td>\n      <td>gun</td>\n      <td>W</td>\n      <td>attack</td>\n    </tr>\n    <tr>\n      <th>7</th>\n      <td>15</td>\n      <td>1/6/15</td>\n      <td>gun</td>\n      <td>W</td>\n      <td>attack</td>\n    </tr>\n    <tr>\n      <th>8</th>\n      <td>16</td>\n      <td>1/6/15</td>\n      <td>unarmed</td>\n      <td>W</td>\n      <td>other</td>\n    </tr>\n    <tr>\n      <th>...</th>\n      <td>...</td>\n      <td>...</td>\n      <td>...</td>\n      <td>...</td>\n      <td>...</td>\n    </tr>\n    <tr>\n      <th>7251</th>\n      <td>7892</td>\n      <td>4/1/22</td>\n      <td>gun and vehicle</td>\n      <td>W</td>\n      <td>other</td>\n    </tr>\n    <tr>\n      <th>7264</th>\n      <td>7890</td>\n      <td>4/4/22</td>\n      <td>unarmed</td>\n      <td>B</td>\n      <td>attack</td>\n    </tr>\n    <tr>\n      <th>7279</th>\n      <td>7920</td>\n      <td>4/7/22</td>\n      <td>gun</td>\n      <td>W</td>\n      <td>attack</td>\n    </tr>\n    <tr>\n      <th>7290</th>\n      <td>7909</td>\n      <td>4/11/22</td>\n      <td>gun</td>\n      <td>B</td>\n      <td>other</td>\n    </tr>\n    <tr>\n      <th>7334</th>\n      <td>7993</td>\n      <td>4/28/22</td>\n      <td>undetermined</td>\n      <td>W</td>\n      <td>undetermined</td>\n    </tr>\n  </tbody>\n</table>\n<p>4620 rows × 5 columns</p>\n</div>"
     },
     "metadata": {},
     "output_type": "display_data"
    }
   ],
   "source": [
    "df = df[df.race.isnull() == False]\n",
    "df = df[df.race.isin(['B', 'W'])]\n",
    "display(df)"
   ],
   "metadata": {
    "collapsed": false,
    "pycharm": {
     "name": "#%%\n"
    }
   }
  },
  {
   "cell_type": "code",
   "execution_count": 25,
   "outputs": [
    {
     "data": {
      "text/plain": "        id      date       armed race  threat_level\n4917  5344    1/1/20         gun    W         other\n4918  5347    1/1/20         gun    W        attack\n4920  5342    1/1/20  toy weapon    W        attack\n4921  5339    1/2/20         gun    W        attack\n4922  5348    1/2/20         gun    W        attack\n...    ...       ...         ...  ...           ...\n5928  6471  12/29/20     unarmed    W  undetermined\n5929  6670  12/29/20         gun    B        attack\n5931  6462  12/30/20         gun    W        attack\n5932  6474  12/30/20         gun    B        attack\n5934  6671  12/30/20         gun    W        attack\n\n[702 rows x 5 columns]",
      "text/html": "<div>\n<style scoped>\n    .dataframe tbody tr th:only-of-type {\n        vertical-align: middle;\n    }\n\n    .dataframe tbody tr th {\n        vertical-align: top;\n    }\n\n    .dataframe thead th {\n        text-align: right;\n    }\n</style>\n<table border=\"1\" class=\"dataframe\">\n  <thead>\n    <tr style=\"text-align: right;\">\n      <th></th>\n      <th>id</th>\n      <th>date</th>\n      <th>armed</th>\n      <th>race</th>\n      <th>threat_level</th>\n    </tr>\n  </thead>\n  <tbody>\n    <tr>\n      <th>4917</th>\n      <td>5344</td>\n      <td>1/1/20</td>\n      <td>gun</td>\n      <td>W</td>\n      <td>other</td>\n    </tr>\n    <tr>\n      <th>4918</th>\n      <td>5347</td>\n      <td>1/1/20</td>\n      <td>gun</td>\n      <td>W</td>\n      <td>attack</td>\n    </tr>\n    <tr>\n      <th>4920</th>\n      <td>5342</td>\n      <td>1/1/20</td>\n      <td>toy weapon</td>\n      <td>W</td>\n      <td>attack</td>\n    </tr>\n    <tr>\n      <th>4921</th>\n      <td>5339</td>\n      <td>1/2/20</td>\n      <td>gun</td>\n      <td>W</td>\n      <td>attack</td>\n    </tr>\n    <tr>\n      <th>4922</th>\n      <td>5348</td>\n      <td>1/2/20</td>\n      <td>gun</td>\n      <td>W</td>\n      <td>attack</td>\n    </tr>\n    <tr>\n      <th>...</th>\n      <td>...</td>\n      <td>...</td>\n      <td>...</td>\n      <td>...</td>\n      <td>...</td>\n    </tr>\n    <tr>\n      <th>5928</th>\n      <td>6471</td>\n      <td>12/29/20</td>\n      <td>unarmed</td>\n      <td>W</td>\n      <td>undetermined</td>\n    </tr>\n    <tr>\n      <th>5929</th>\n      <td>6670</td>\n      <td>12/29/20</td>\n      <td>gun</td>\n      <td>B</td>\n      <td>attack</td>\n    </tr>\n    <tr>\n      <th>5931</th>\n      <td>6462</td>\n      <td>12/30/20</td>\n      <td>gun</td>\n      <td>W</td>\n      <td>attack</td>\n    </tr>\n    <tr>\n      <th>5932</th>\n      <td>6474</td>\n      <td>12/30/20</td>\n      <td>gun</td>\n      <td>B</td>\n      <td>attack</td>\n    </tr>\n    <tr>\n      <th>5934</th>\n      <td>6671</td>\n      <td>12/30/20</td>\n      <td>gun</td>\n      <td>W</td>\n      <td>attack</td>\n    </tr>\n  </tbody>\n</table>\n<p>702 rows × 5 columns</p>\n</div>"
     },
     "metadata": {},
     "output_type": "display_data"
    },
    {
     "name": "stdout",
     "output_type": "stream",
     "text": [
      "there are 243 black men shot in 2020\n",
      "there are 459 white men shot in 2020\n"
     ]
    }
   ],
   "source": [
    "df_2020 = df[df.date.str.slice(-2) == '20']\n",
    "display(df_2020)"
   ],
   "metadata": {
    "collapsed": false,
    "pycharm": {
     "name": "#%%\n"
    }
   }
  },
  {
   "cell_type": "code",
   "execution_count": 26,
   "outputs": [
    {
     "data": {
      "text/plain": "<Figure size 1800x1200 with 1 Axes>",
      "image/png": "[encoded data removed]"
     },
     "metadata": {},
     "output_type": "display_data"
    }
   ],
   "source": [
    "df_2020_unarmed = df_2020[df_2020.armed.isin(['unarmed'])]\n",
    "ax = sns.countplot(x=\"race\", data=df_2020_unarmed)"
   ],
   "metadata": {
    "collapsed": false,
    "pycharm": {
     "name": "#%%\n"
    }
   }
  },
  {
   "cell_type": "markdown",
   "source": [
    "### Summary Statistics"
   ],
   "metadata": {
    "collapsed": false,
    "pycharm": {
     "name": "#%% md\n"
    }
   }
  },
  {
   "cell_type": "code",
   "execution_count": 35,
   "outputs": [
    {
     "name": "stdout",
     "output_type": "stream",
     "text": [
      "243 black men shot in 2020, with 18 being unarmed. Meaning a proportion of 0.07407407407407407\n",
      "459 white men shot in 2020, with 26 being unarmed. Meaning a proportion of 26\n"
     ]
    }
   ],
   "source": [
    "black = df_2020[df_2020.race.isin(['B'])]\n",
    "white = df_2020[df_2020.race.isin(['W'])]\n",
    "\n",
    "num_black = (len(black))\n",
    "num_black_unarmed = len(black[black.armed == \"unarmed\"])\n",
    "prop_black_unarmed = len(black[black.armed == \"unarmed\"])/(len(black))\n",
    "\n",
    "num_white = (len(white))\n",
    "num_white_unarmed = len(white[white.armed == \"unarmed\"])\n",
    "prop_white_unarmed = len(white[white.armed == \"unarmed\"])/(len(white))\n",
    "\n",
    "print(f'{num_black} black men shot in 2020, with {num_black_unarmed} being unarmed. Meaning a proportion of {prop_black_unarmed}')\n",
    "\n",
    "print(f'{num_white} white men shot in 2020, with {num_white_unarmed} being unarmed. Meaning a proportion of {prop_white_unarmed}')"
   ],
   "metadata": {
    "collapsed": false,
    "pycharm": {
     "name": "#%%\n"
    }
   }
  },
  {
   "cell_type": "markdown",
   "source": [
    "### Two-Proportion Z-interval\n",
    "**conditions:**\n",
    "- Random: The year chosen, 2020, was chosen randomly from the data set, meaning that the random condition is met\n",
    "- Success/Failure condition: There are more than 10 armed blacks and 10 unarmed blacks. There are more than 10 armed whites and 10 unarmed whites.\n",
    "- Sample size: since we are only looking at one year, 2020, it is not possible that this comprises more than 10% of the population, since there have been over 10 years of policing where deadly force involved."
   ],
   "metadata": {
    "collapsed": false,
    "pycharm": {
     "name": "#%% md\n"
    }
   }
  },
  {
   "cell_type": "code",
   "execution_count": 45,
   "outputs": [
    {
     "name": "stdout",
     "output_type": "stream",
     "text": [
      "The true difference in proportion (blacks - whites) is between (-0.019193754696038477, 0.06113785095986793) at a 95% confidence level\n"
     ]
    }
   ],
   "source": [
    "interval = sp.confint_proportions_2indep(num_black_unarmed, num_black, num_white_unarmed, num_white, compare=\"diff\", alpha = 0.05, correction=False)\n",
    "print(f'The true difference in proportion (blacks - whites) is between {interval} at a 95% confidence level')"
   ],
   "metadata": {
    "collapsed": false,
    "pycharm": {
     "name": "#%%\n"
    }
   }
  },
  {
   "cell_type": "code",
   "execution_count": 64,
   "metadata": {
    "pycharm": {
     "name": "#%%\n"
    }
   },
   "outputs": [
    {
     "data": {
      "text/html": [
       "<div>\n",
       "<style scoped>\n",
       "    .dataframe tbody tr th:only-of-type {\n",
       "        vertical-align: middle;\n",
       "    }\n",
       "\n",
       "    .dataframe tbody tr th {\n",
       "        vertical-align: top;\n",
       "    }\n",
       "\n",
       "    .dataframe thead th {\n",
       "        text-align: right;\n",
       "    }\n",
       "</style>\n",
       "<table border=\"1\" class=\"dataframe\">\n",
       "  <thead>\n",
       "    <tr style=\"text-align: right;\">\n",
       "      <th></th>\n",
       "      <th>id</th>\n",
       "      <th>date</th>\n",
       "      <th>armed</th>\n",
       "      <th>race</th>\n",
       "      <th>threat_level</th>\n",
       "    </tr>\n",
       "  </thead>\n",
       "  <tbody>\n",
       "    <tr>\n",
       "      <th>4992</th>\n",
       "      <td>5434</td>\n",
       "      <td>1/27/20</td>\n",
       "      <td>unarmed</td>\n",
       "      <td>B</td>\n",
       "      <td>attack</td>\n",
       "    </tr>\n",
       "    <tr>\n",
       "      <th>4998</th>\n",
       "      <td>5441</td>\n",
       "      <td>1/29/20</td>\n",
       "      <td>unarmed</td>\n",
       "      <td>B</td>\n",
       "      <td>attack</td>\n",
       "    </tr>\n",
       "    <tr>\n",
       "      <th>5099</th>\n",
       "      <td>5620</td>\n",
       "      <td>3/6/20</td>\n",
       "      <td>unarmed</td>\n",
       "      <td>B</td>\n",
       "      <td>attack</td>\n",
       "    </tr>\n",
       "    <tr>\n",
       "      <th>5116</th>\n",
       "      <td>5663</td>\n",
       "      <td>3/12/20</td>\n",
       "      <td>unarmed</td>\n",
       "      <td>B</td>\n",
       "      <td>undetermined</td>\n",
       "    </tr>\n",
       "    <tr>\n",
       "      <th>5117</th>\n",
       "      <td>5626</td>\n",
       "      <td>3/13/20</td>\n",
       "      <td>unarmed</td>\n",
       "      <td>B</td>\n",
       "      <td>other</td>\n",
       "    </tr>\n",
       "    <tr>\n",
       "      <th>5146</th>\n",
       "      <td>5647</td>\n",
       "      <td>3/20/20</td>\n",
       "      <td>unarmed</td>\n",
       "      <td>B</td>\n",
       "      <td>attack</td>\n",
       "    </tr>\n",
       "    <tr>\n",
       "      <th>5235</th>\n",
       "      <td>5862</td>\n",
       "      <td>4/23/20</td>\n",
       "      <td>unarmed</td>\n",
       "      <td>B</td>\n",
       "      <td>attack</td>\n",
       "    </tr>\n",
       "    <tr>\n",
       "      <th>5257</th>\n",
       "      <td>5778</td>\n",
       "      <td>5/1/20</td>\n",
       "      <td>unarmed</td>\n",
       "      <td>B</td>\n",
       "      <td>attack</td>\n",
       "    </tr>\n",
       "    <tr>\n",
       "      <th>5326</th>\n",
       "      <td>5873</td>\n",
       "      <td>5/23/20</td>\n",
       "      <td>unarmed</td>\n",
       "      <td>B</td>\n",
       "      <td>attack</td>\n",
       "    </tr>\n",
       "    <tr>\n",
       "      <th>5333</th>\n",
       "      <td>5841</td>\n",
       "      <td>5/25/20</td>\n",
       "      <td>unarmed</td>\n",
       "      <td>B</td>\n",
       "      <td>other</td>\n",
       "    </tr>\n",
       "    <tr>\n",
       "      <th>5424</th>\n",
       "      <td>5948</td>\n",
       "      <td>6/25/20</td>\n",
       "      <td>unarmed</td>\n",
       "      <td>B</td>\n",
       "      <td>undetermined</td>\n",
       "    </tr>\n",
       "    <tr>\n",
       "      <th>5530</th>\n",
       "      <td>6088</td>\n",
       "      <td>8/7/20</td>\n",
       "      <td>unarmed</td>\n",
       "      <td>B</td>\n",
       "      <td>undetermined</td>\n",
       "    </tr>\n",
       "    <tr>\n",
       "      <th>5645</th>\n",
       "      <td>6184</td>\n",
       "      <td>9/23/20</td>\n",
       "      <td>unarmed</td>\n",
       "      <td>B</td>\n",
       "      <td>attack</td>\n",
       "    </tr>\n",
       "    <tr>\n",
       "      <th>5659</th>\n",
       "      <td>6208</td>\n",
       "      <td>10/2/20</td>\n",
       "      <td>unarmed</td>\n",
       "      <td>B</td>\n",
       "      <td>other</td>\n",
       "    </tr>\n",
       "    <tr>\n",
       "      <th>5664</th>\n",
       "      <td>6204</td>\n",
       "      <td>10/3/20</td>\n",
       "      <td>unarmed</td>\n",
       "      <td>B</td>\n",
       "      <td>other</td>\n",
       "    </tr>\n",
       "    <tr>\n",
       "      <th>5685</th>\n",
       "      <td>6229</td>\n",
       "      <td>10/12/20</td>\n",
       "      <td>unarmed</td>\n",
       "      <td>B</td>\n",
       "      <td>other</td>\n",
       "    </tr>\n",
       "    <tr>\n",
       "      <th>5714</th>\n",
       "      <td>6248</td>\n",
       "      <td>10/20/20</td>\n",
       "      <td>unarmed</td>\n",
       "      <td>B</td>\n",
       "      <td>other</td>\n",
       "    </tr>\n",
       "    <tr>\n",
       "      <th>5906</th>\n",
       "      <td>6434</td>\n",
       "      <td>12/22/20</td>\n",
       "      <td>unarmed</td>\n",
       "      <td>B</td>\n",
       "      <td>undetermined</td>\n",
       "    </tr>\n",
       "  </tbody>\n",
       "</table>\n",
       "</div>"
      ],
      "text/plain": [
       "        id      date    armed race  threat_level\n",
       "4992  5434   1/27/20  unarmed    B        attack\n",
       "4998  5441   1/29/20  unarmed    B        attack\n",
       "5099  5620    3/6/20  unarmed    B        attack\n",
       "5116  5663   3/12/20  unarmed    B  undetermined\n",
       "5117  5626   3/13/20  unarmed    B         other\n",
       "5146  5647   3/20/20  unarmed    B        attack\n",
       "5235  5862   4/23/20  unarmed    B        attack\n",
       "5257  5778    5/1/20  unarmed    B        attack\n",
       "5326  5873   5/23/20  unarmed    B        attack\n",
       "5333  5841   5/25/20  unarmed    B         other\n",
       "5424  5948   6/25/20  unarmed    B  undetermined\n",
       "5530  6088    8/7/20  unarmed    B  undetermined\n",
       "5645  6184   9/23/20  unarmed    B        attack\n",
       "5659  6208   10/2/20  unarmed    B         other\n",
       "5664  6204   10/3/20  unarmed    B         other\n",
       "5685  6229  10/12/20  unarmed    B         other\n",
       "5714  6248  10/20/20  unarmed    B         other\n",
       "5906  6434  12/22/20  unarmed    B  undetermined"
      ]
     },
     "metadata": {},
     "output_type": "display_data"
    },
    {
     "data": {
      "text/html": [
       "<div>\n",
       "<style scoped>\n",
       "    .dataframe tbody tr th:only-of-type {\n",
       "        vertical-align: middle;\n",
       "    }\n",
       "\n",
       "    .dataframe tbody tr th {\n",
       "        vertical-align: top;\n",
       "    }\n",
       "\n",
       "    .dataframe thead th {\n",
       "        text-align: right;\n",
       "    }\n",
       "</style>\n",
       "<table border=\"1\" class=\"dataframe\">\n",
       "  <thead>\n",
       "    <tr style=\"text-align: right;\">\n",
       "      <th></th>\n",
       "      <th>id</th>\n",
       "      <th>date</th>\n",
       "      <th>armed</th>\n",
       "      <th>race</th>\n",
       "      <th>threat_level</th>\n",
       "    </tr>\n",
       "  </thead>\n",
       "  <tbody>\n",
       "    <tr>\n",
       "      <th>5062</th>\n",
       "      <td>5576</td>\n",
       "      <td>2/24/20</td>\n",
       "      <td>unarmed</td>\n",
       "      <td>W</td>\n",
       "      <td>other</td>\n",
       "    </tr>\n",
       "    <tr>\n",
       "      <th>5092</th>\n",
       "      <td>5605</td>\n",
       "      <td>3/4/20</td>\n",
       "      <td>unarmed</td>\n",
       "      <td>W</td>\n",
       "      <td>attack</td>\n",
       "    </tr>\n",
       "    <tr>\n",
       "      <th>5101</th>\n",
       "      <td>5657</td>\n",
       "      <td>3/6/20</td>\n",
       "      <td>unarmed</td>\n",
       "      <td>W</td>\n",
       "      <td>attack</td>\n",
       "    </tr>\n",
       "    <tr>\n",
       "      <th>5107</th>\n",
       "      <td>5615</td>\n",
       "      <td>3/8/20</td>\n",
       "      <td>unarmed</td>\n",
       "      <td>W</td>\n",
       "      <td>other</td>\n",
       "    </tr>\n",
       "    <tr>\n",
       "      <th>5109</th>\n",
       "      <td>5623</td>\n",
       "      <td>3/8/20</td>\n",
       "      <td>unarmed</td>\n",
       "      <td>W</td>\n",
       "      <td>attack</td>\n",
       "    </tr>\n",
       "    <tr>\n",
       "      <th>5161</th>\n",
       "      <td>5719</td>\n",
       "      <td>3/26/20</td>\n",
       "      <td>unarmed</td>\n",
       "      <td>W</td>\n",
       "      <td>other</td>\n",
       "    </tr>\n",
       "    <tr>\n",
       "      <th>5200</th>\n",
       "      <td>5736</td>\n",
       "      <td>4/9/20</td>\n",
       "      <td>unarmed</td>\n",
       "      <td>W</td>\n",
       "      <td>attack</td>\n",
       "    </tr>\n",
       "    <tr>\n",
       "      <th>5202</th>\n",
       "      <td>5738</td>\n",
       "      <td>4/10/20</td>\n",
       "      <td>unarmed</td>\n",
       "      <td>W</td>\n",
       "      <td>other</td>\n",
       "    </tr>\n",
       "    <tr>\n",
       "      <th>5256</th>\n",
       "      <td>5777</td>\n",
       "      <td>5/1/20</td>\n",
       "      <td>unarmed</td>\n",
       "      <td>W</td>\n",
       "      <td>other</td>\n",
       "    </tr>\n",
       "    <tr>\n",
       "      <th>5317</th>\n",
       "      <td>5824</td>\n",
       "      <td>5/19/20</td>\n",
       "      <td>unarmed</td>\n",
       "      <td>W</td>\n",
       "      <td>attack</td>\n",
       "    </tr>\n",
       "    <tr>\n",
       "      <th>5344</th>\n",
       "      <td>5861</td>\n",
       "      <td>5/26/20</td>\n",
       "      <td>unarmed</td>\n",
       "      <td>W</td>\n",
       "      <td>attack</td>\n",
       "    </tr>\n",
       "    <tr>\n",
       "      <th>5350</th>\n",
       "      <td>5868</td>\n",
       "      <td>5/27/20</td>\n",
       "      <td>unarmed</td>\n",
       "      <td>W</td>\n",
       "      <td>undetermined</td>\n",
       "    </tr>\n",
       "    <tr>\n",
       "      <th>5395</th>\n",
       "      <td>5918</td>\n",
       "      <td>6/13/20</td>\n",
       "      <td>unarmed</td>\n",
       "      <td>W</td>\n",
       "      <td>other</td>\n",
       "    </tr>\n",
       "    <tr>\n",
       "      <th>5519</th>\n",
       "      <td>6037</td>\n",
       "      <td>8/4/20</td>\n",
       "      <td>unarmed</td>\n",
       "      <td>W</td>\n",
       "      <td>undetermined</td>\n",
       "    </tr>\n",
       "    <tr>\n",
       "      <th>5525</th>\n",
       "      <td>6036</td>\n",
       "      <td>8/7/20</td>\n",
       "      <td>unarmed</td>\n",
       "      <td>W</td>\n",
       "      <td>attack</td>\n",
       "    </tr>\n",
       "    <tr>\n",
       "      <th>5636</th>\n",
       "      <td>6186</td>\n",
       "      <td>9/19/20</td>\n",
       "      <td>unarmed</td>\n",
       "      <td>W</td>\n",
       "      <td>undetermined</td>\n",
       "    </tr>\n",
       "    <tr>\n",
       "      <th>5679</th>\n",
       "      <td>6215</td>\n",
       "      <td>10/9/20</td>\n",
       "      <td>unarmed</td>\n",
       "      <td>W</td>\n",
       "      <td>undetermined</td>\n",
       "    </tr>\n",
       "    <tr>\n",
       "      <th>5703</th>\n",
       "      <td>6241</td>\n",
       "      <td>10/17/20</td>\n",
       "      <td>unarmed</td>\n",
       "      <td>W</td>\n",
       "      <td>attack</td>\n",
       "    </tr>\n",
       "    <tr>\n",
       "      <th>5711</th>\n",
       "      <td>6376</td>\n",
       "      <td>10/19/20</td>\n",
       "      <td>unarmed</td>\n",
       "      <td>W</td>\n",
       "      <td>undetermined</td>\n",
       "    </tr>\n",
       "    <tr>\n",
       "      <th>5752</th>\n",
       "      <td>6282</td>\n",
       "      <td>10/30/20</td>\n",
       "      <td>unarmed</td>\n",
       "      <td>W</td>\n",
       "      <td>other</td>\n",
       "    </tr>\n",
       "    <tr>\n",
       "      <th>5756</th>\n",
       "      <td>6377</td>\n",
       "      <td>10/31/20</td>\n",
       "      <td>unarmed</td>\n",
       "      <td>W</td>\n",
       "      <td>undetermined</td>\n",
       "    </tr>\n",
       "    <tr>\n",
       "      <th>5826</th>\n",
       "      <td>6333</td>\n",
       "      <td>11/20/20</td>\n",
       "      <td>unarmed</td>\n",
       "      <td>W</td>\n",
       "      <td>attack</td>\n",
       "    </tr>\n",
       "    <tr>\n",
       "      <th>5869</th>\n",
       "      <td>6410</td>\n",
       "      <td>12/8/20</td>\n",
       "      <td>unarmed</td>\n",
       "      <td>W</td>\n",
       "      <td>attack</td>\n",
       "    </tr>\n",
       "    <tr>\n",
       "      <th>5904</th>\n",
       "      <td>6451</td>\n",
       "      <td>12/20/20</td>\n",
       "      <td>unarmed</td>\n",
       "      <td>W</td>\n",
       "      <td>undetermined</td>\n",
       "    </tr>\n",
       "    <tr>\n",
       "      <th>5924</th>\n",
       "      <td>6519</td>\n",
       "      <td>12/28/20</td>\n",
       "      <td>unarmed</td>\n",
       "      <td>W</td>\n",
       "      <td>other</td>\n",
       "    </tr>\n",
       "    <tr>\n",
       "      <th>5928</th>\n",
       "      <td>6471</td>\n",
       "      <td>12/29/20</td>\n",
       "      <td>unarmed</td>\n",
       "      <td>W</td>\n",
       "      <td>undetermined</td>\n",
       "    </tr>\n",
       "  </tbody>\n",
       "</table>\n",
       "</div>"
      ],
      "text/plain": [
       "        id      date    armed race  threat_level\n",
       "5062  5576   2/24/20  unarmed    W         other\n",
       "5092  5605    3/4/20  unarmed    W        attack\n",
       "5101  5657    3/6/20  unarmed    W        attack\n",
       "5107  5615    3/8/20  unarmed    W         other\n",
       "5109  5623    3/8/20  unarmed    W        attack\n",
       "5161  5719   3/26/20  unarmed    W         other\n",
       "5200  5736    4/9/20  unarmed    W        attack\n",
       "5202  5738   4/10/20  unarmed    W         other\n",
       "5256  5777    5/1/20  unarmed    W         other\n",
       "5317  5824   5/19/20  unarmed    W        attack\n",
       "5344  5861   5/26/20  unarmed    W        attack\n",
       "5350  5868   5/27/20  unarmed    W  undetermined\n",
       "5395  5918   6/13/20  unarmed    W         other\n",
       "5519  6037    8/4/20  unarmed    W  undetermined\n",
       "5525  6036    8/7/20  unarmed    W        attack\n",
       "5636  6186   9/19/20  unarmed    W  undetermined\n",
       "5679  6215   10/9/20  unarmed    W  undetermined\n",
       "5703  6241  10/17/20  unarmed    W        attack\n",
       "5711  6376  10/19/20  unarmed    W  undetermined\n",
       "5752  6282  10/30/20  unarmed    W         other\n",
       "5756  6377  10/31/20  unarmed    W  undetermined\n",
       "5826  6333  11/20/20  unarmed    W        attack\n",
       "5869  6410   12/8/20  unarmed    W        attack\n",
       "5904  6451  12/20/20  unarmed    W  undetermined\n",
       "5924  6519  12/28/20  unarmed    W         other\n",
       "5928  6471  12/29/20  unarmed    W  undetermined"
      ]
     },
     "metadata": {},
     "output_type": "display_data"
    }
   ],
   "source": [
    "black = df_2020_unarmed[df_2020_unarmed.race.isin(['B'])]\n",
    "white = df_2020_unarmed[df_2020_unarmed.race.isin(['W'])]\n",
    "\n",
    "display(black)\n",
    "display(white)"
   ]
  }
 ],
 "metadata": {
  "interpreter": {
   "hash": "d19fa70d25f5c0ea1da134813c129f7ec3e6bc45d897e9ed5d7d1912ac335777"
  },
  "kernelspec": {
   "display_name": "Python 3.9.10 ('conda_env')",
   "language": "python",
   "name": "python3"
  },
  "language_info": {
   "codemirror_mode": {
    "name": "ipython",
    "version": 3
   },
   "file_extension": ".py",
   "mimetype": "text/x-python",
   "name": "python",
   "nbconvert_exporter": "python",
   "pygments_lexer": "ipython3",
   "version": "3.9.10"
  }
 },
 "nbformat": 4,
 "nbformat_minor": 0
}